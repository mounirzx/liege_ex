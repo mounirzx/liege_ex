{
 "cells": [
  {
   "cell_type": "markdown",
   "metadata": {},
   "source": [
    "# Calculate the surface terriere"
   ]
  },
  {
   "cell_type": "code",
   "execution_count": 13,
   "metadata": {},
   "outputs": [
    {
     "name": "stdout",
     "output_type": "stream",
     "text": [
      "315.84\n"
     ]
    }
   ],
   "source": [
    "# Calculate the surface terriere\n",
    "import math\n",
    "\n",
    "# Define the diameter\n",
    "diameter = 63.00\t\n",
    "\n",
    "# Define pi (you can use the built-in constant or approximate value)\n",
    "pi = math.pi\n",
    "\n",
    "# Calculate the surface terriere (without rounding)\n",
    "surface_terriere = (diameter**2) / (4 * pi)\n",
    "\n",
    "# Print the result\n",
    "print(round(surface_terriere, 2))\n"
   ]
  },
  {
   "cell_type": "code",
   "execution_count": 16,
   "metadata": {},
   "outputs": [
    {
     "ename": "ModuleNotFoundError",
     "evalue": "No module named 'pymysql'",
     "output_type": "error",
     "traceback": [
      "\u001b[1;31m---------------------------------------------------------------------------\u001b[0m",
      "\u001b[1;31mModuleNotFoundError\u001b[0m                       Traceback (most recent call last)",
      "Cell \u001b[1;32mIn[16], line 1\u001b[0m\n\u001b[1;32m----> 1\u001b[0m \u001b[38;5;28;01mimport\u001b[39;00m \u001b[38;5;21;01mpymysql\u001b[39;00m\u001b[38;5;21;01m.\u001b[39;00m\u001b[38;5;21;01mcursors\u001b[39;00m\n\u001b[0;32m      2\u001b[0m \u001b[38;5;28;01mimport\u001b[39;00m \u001b[38;5;21;01mpandas\u001b[39;00m \u001b[38;5;28;01mas\u001b[39;00m \u001b[38;5;21;01mpd\u001b[39;00m\n\u001b[0;32m      3\u001b[0m \u001b[38;5;28;01mimport\u001b[39;00m \u001b[38;5;21;01mmatplotlib\u001b[39;00m\u001b[38;5;21;01m.\u001b[39;00m\u001b[38;5;21;01mpyplot\u001b[39;00m \u001b[38;5;28;01mas\u001b[39;00m \u001b[38;5;21;01mplt\u001b[39;00m\n",
      "\u001b[1;31mModuleNotFoundError\u001b[0m: No module named 'pymysql'"
     ]
    }
   ],
   "source": [
    "import pymysql.cursors\n",
    "import pandas as pd\n",
    "import matplotlib.pyplot as plt\n",
    "\n",
    "# Establish your database connection\n",
    "connection = pymysql.connect(host='localhost',\n",
    "                             user='root',\n",
    "                             password='',\n",
    "                             database='liege1',\n",
    "                             cursorclass=pymysql.cursors.DictCursor)\n",
    "\n",
    "try:\n",
    "    with connection.cursor() as cursor:\n",
    "        # Get the selected option value from the request body\n",
    "        option = input('Enter the option: ')\n",
    "\n",
    "        # Define the base query\n",
    "        query = \"\"\"\n",
    "            SELECT \n",
    "                id, \n",
    "                serie, \n",
    "                CONCAT(parcelle, sous_parcelle) AS Sousparcelle, \n",
    "                code_wilaya, \n",
    "                commune, \n",
    "                total_diametre, \n",
    "                average_diametre, \n",
    "                nombre_tree, \n",
    "                total_hauteur_total, \n",
    "                average_hauteur_total, \n",
    "                total_age, \n",
    "                average_age,\n",
    "                ROUND((POW(total_diametre, 2) / (4 * PI())),2) AS surface_terriere\n",
    "            FROM (\n",
    "                SELECT \n",
    "                    sp.id, \n",
    "                    sp.serie, \n",
    "                    sp.parcelle, \n",
    "                    sp.sous_parcelle,\n",
    "                    sp.code_wilaya, \n",
    "                    sp.commune, \n",
    "                    ROUND(SUM(arbres.diametre), 2) AS total_diametre, \n",
    "                    ROUND(AVG(arbres.diametre), 2) AS average_diametre, \n",
    "                    COUNT(arbres.id_arbre) AS nombre_tree, \n",
    "                    ROUND(SUM(arbres.hauteur_total), 2) AS total_hauteur_total, \n",
    "                    ROUND(AVG(arbres.hauteur_total), 2) AS average_hauteur_total, \n",
    "                    ROUND(SUM(arbres.hauteur_demasclage), 2) AS total_hauteur_demasclage, \n",
    "                    ROUND(AVG(arbres.hauteur_demasclage), 2) AS average_hauteur_demasclage, \n",
    "                    ROUND(SUM(\n",
    "                        CASE \n",
    "                            WHEN sp.code_wilaya = '18' THEN ROUND((arbres.epaisseur * 10) / 3.14, 2)\n",
    "                            WHEN sp.code_wilaya = '6' THEN ROUND((arbres.epaisseur * 10) / 3.19, 2)\n",
    "                            WHEN sp.code_wilaya = '13' THEN ROUND((arbres.epaisseur * 10) / 2.64, 2)\n",
    "                            ELSE NULL  \n",
    "                        END\n",
    "                    ), 2) AS total_age, \n",
    "                    ROUND(AVG(\n",
    "                        CASE \n",
    "                            WHEN sp.code_wilaya = '18' THEN ROUND((arbres.epaisseur * 10) / 3.14, 2)\n",
    "                            WHEN sp.code_wilaya = '6' THEN ROUND((arbres.epaisseur * 10) / 3.19, 2)\n",
    "                            WHEN sp.code_wilaya = '13' THEN ROUND((arbres.epaisseur * 10) / 2.64, 2)\n",
    "                            ELSE NULL  \n",
    "                        END\n",
    "                    ), 2) AS average_age,\n",
    "                    arbres.age\n",
    "                FROM \n",
    "                    sp\n",
    "                JOIN \n",
    "                    points ON sp.id = points.id_sp\n",
    "                JOIN \n",
    "                    arbres ON points.id_point = arbres.id_point \n",
    "                WHERE \n",
    "                    sp.exist = 1 AND points.exist = 1 AND arbres.exist = 1\n",
    "        \"\"\"\n",
    "\n",
    "        # Adjust the query based on the selected option\n",
    "        if option == '1':\n",
    "            query += \" GROUP BY sp.id) AS subquery ORDER BY id ASC\"\n",
    "        elif option == '2':\n",
    "            query += \" GROUP BY points.id_point) AS subquery ORDER BY id ASC\"\n",
    "        elif option == '3':\n",
    "            query += \" GROUP BY arbres.id_arbre) AS subquery ORDER BY id ASC\"\n",
    "        else:\n",
    "            query += \" GROUP BY sp.id) AS subquery ORDER BY id ASC\"\n",
    "\n",
    "        # Execute the query\n",
    "        cursor.execute(query)\n",
    "        result = cursor.fetchall()\n",
    "\n",
    "        # Convert the result into a pandas DataFrame\n",
    "        df = pd.DataFrame(result)\n",
    "\n",
    "        # Display the DataFrame as a table\n",
    "        display(df)\n",
    "\n",
    "        # Create a bar chart\n",
    "        df.plot(kind='bar', x='id', y='total_diametre')\n",
    "        plt.xlabel('ID')\n",
    "        plt.ylabel('Total Diameter')\n",
    "        plt.title('Total Diameter by ID')\n",
    "        plt.show()\n",
    "\n",
    "finally:\n",
    "    connection.close()\n"
   ]
  }
 ],
 "metadata": {
  "kernelspec": {
   "display_name": "Python 3",
   "language": "python",
   "name": "python3"
  },
  "language_info": {
   "codemirror_mode": {
    "name": "ipython",
    "version": 3
   },
   "file_extension": ".py",
   "mimetype": "text/x-python",
   "name": "python",
   "nbconvert_exporter": "python",
   "pygments_lexer": "ipython3",
   "version": "3.11.5"
  }
 },
 "nbformat": 4,
 "nbformat_minor": 2
}
